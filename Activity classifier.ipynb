{
 "cells": [
  {
   "cell_type": "markdown",
   "metadata": {},
   "source": [
    "# Classifying activity using wearable accelerometer data\n",
    "\n",
    "### Data Source:  \n",
    "http://archive.ics.uci.edu/ml/datasets/Activity+Recognition+from+Single+Chest-Mounted+Accelerometer\n",
    "\n",
    "### Dataset Description:\n",
    "There are 15 datasets, each corresponding to a different individual. Each dataset contains instances of uncalibrated measurements of the x,y, and z components of the acceleration, along with a numerical label from 1 thru 7, corresponding to the type of activity. The labels are defined as follows:\n",
    "\n",
    "1. Working at Computer \n",
    "2. Standing Up, Walking and Going up\\down stairs\n",
    "3. Standing\n",
    "4. Walking\n",
    "5. Going Up\\Down Stairs\n",
    "6. Walking and Talking with Someone\n",
    "7. Talking while Standing"
   ]
  },
  {
   "cell_type": "code",
   "execution_count": 1,
   "metadata": {
    "collapsed": true
   },
   "outputs": [],
   "source": [
    "import pandas as pd\n",
    "import numpy as np\n",
    "from sklearn.ensemble import RandomForestClassifier\n",
    "from sklearn.metrics import accuracy_score\n",
    "from sklearn import cross_validation\n",
    "\n",
    "#Loading each dataset to a dataframe\n",
    "df1 = pd.read_csv(\"data/1.csv\", header= None, names = ['Serial','x','y', 'z', 'label'])\n",
    "df2 = pd.read_csv(\"data/2.csv\",header= None, names = [\"Serial\",\"x\",\"y\", \"z\", \"label\"])\n",
    "df3 = pd.read_csv(\"data/3.csv\",header= None, names = [\"Serial\",\"x\",\"y\", \"z\", \"label\"])\n",
    "df4 = pd.read_csv(\"data/4.csv\",header= None, names = [\"Serial\",\"x\",\"y\", \"z\", \"label\"])\n",
    "df5 = pd.read_csv(\"data/5.csv\",header= None, names = [\"Serial\",\"x\",\"y\", \"z\", \"label\"])\n",
    "df6 = pd.read_csv(\"data/6.csv\",header= None, names = [\"Serial\",\"x\",\"y\", \"z\", \"label\"])\n",
    "df7 = pd.read_csv(\"data/7.csv\",header= None, names = [\"Serial\",\"x\",\"y\", \"z\", \"label\"])\n",
    "df8 = pd.read_csv(\"data/8.csv\",header= None, names = [\"Serial\",\"x\",\"y\", \"z\", \"label\"])\n",
    "df9 = pd.read_csv(\"data/9.csv\",header= None, names = [\"Serial\",\"x\",\"y\", \"z\", \"label\"])\n",
    "df10 = pd.read_csv(\"data/10.csv\",header= None, names = [\"Serial\",\"x\",\"y\", \"z\", \"label\"])\n",
    "df11 = pd.read_csv(\"data/11.csv\",header= None, names = [\"Serial\",\"x\",\"y\", \"z\", \"label\"])\n",
    "df12 = pd.read_csv(\"data/12.csv\",header= None, names = [\"Serial\",\"x\",\"y\", \"z\", \"label\"])\n",
    "df13 = pd.read_csv(\"data/13.csv\",header= None, names = [\"Serial\",\"x\",\"y\", \"z\", \"label\"])\n",
    "df14 = pd.read_csv(\"data/14.csv\",header= None, names = [\"Serial\",\"x\",\"y\", \"z\", \"label\"])\n",
    "df15 = pd.read_csv(\"data/15.csv\",header= None, names = [\"Serial\",\"x\",\"y\", \"z\", \"label\"])"
   ]
  },
  {
   "cell_type": "markdown",
   "metadata": {
    "collapsed": false
   },
   "source": [
    "### Preliminary data exploration\n",
    "\n",
    "We plot the frequency of labels in the combined data and find that the labels are highly unbalanced. \n",
    "The dominant labels are 1, 7, 4, and 3."
   ]
  },
  {
   "cell_type": "code",
   "execution_count": 18,
   "metadata": {
    "collapsed": false
   },
   "outputs": [
    {
     "data": {
      "text/plain": [
       "<matplotlib.axes._subplots.AxesSubplot at 0x7fcebc1ac5d0>"
      ]
     },
     "execution_count": 18,
     "metadata": {},
     "output_type": "execute_result"
    },
    {
     "data": {
      "image/png": "[encoded data removed]",
      "text/plain": [
       "<matplotlib.figure.Figure at 0x7fcebc0fea50>"
      ]
     },
     "metadata": {},
     "output_type": "display_data"
    }
   ],
   "source": [
    "%matplotlib inline\n",
    "dtotal = pd.concat([df1, df2, df3, df4, df5, df6, df7, df8, df9, df10, df11, df12, df13, df14, df15]) #Combine all of the data\n",
    "dtotal.groupby('label').size().sort_values(ascending = False).plot(kind = 'bar')\n"
   ]
  },
  {
   "cell_type": "markdown",
   "metadata": {},
   "source": [
    "### Model building\n",
    "#### Training and testing the classifier\n",
    "For each dataset, we build a model that does the best job at classifying the labels based on the features x,y, and z.\n",
    "We try three different classification techhniques: Logistic regression, Support Vector Machines, and Random Forest.\n",
    "The Random Forest classifier yields the highest accuracy on the validation set.\n",
    "\n",
    "#### Trying new features\n",
    "We examined the possibility of improving performance by by including additional features derived from x,y,z :\n",
    "1. Total accelaration: sqrt(x^2+y^2+z^2)\n",
    "2. Ratio of x to y: x/y*\n",
    "3. Ratio of y to z: y/z\n",
    "4. Ratio of x to z: x/z\n",
    "5. Total horizontal acceleration: sqrt(x^2+y^2)\n",
    "6. Slope of the acceleration vector wrt the horizontal plane: z/sqrt(x^2+y^2)\n",
    "\n",
    "We found no improvement in performance by including one or more of these additional features. On the contary, we found a slight drop in the overall accuracy. So we restrict ourselves to the original features x,y, and z.\n",
    "\n",
    "*We verified that none of the values of x,y, and z was 0 anywhere in the data, thereby eliminating any division by zero concerns."
   ]
  },
  {
   "cell_type": "markdown",
   "metadata": {},
   "source": [
    "#### Splitting the data into features and target vectors"
   ]
  },
  {
   "cell_type": "code",
   "execution_count": 55,
   "metadata": {
    "collapsed": false
   },
   "outputs": [],
   "source": [
    "dfn = df7#Choose the dataset to work with\n",
    "dfn =dfn.reindex(np.random.permutation(dfn.index)) #Shuffle the rows\n",
    "dfn = dfn[dfn.label != 0] #Remove any rows with label 0\n",
    "#dfn['tot'] = np.sqrt(dfn.x**2 + dfn.y**2+ dfn.z**2) #Include the total acceleration as a new feature\n",
    "#dfn['slope'] = dfn.z/np.sqrt(dfn.x**2 + dfn.y**2) #Include the total horizontal acceleration as a new feature\n",
    "#dfn['x-yratio'] = dfn.x/dfn.y #Include the ratio of x and y accelerations as a new feature\n",
    "#dfn['y-zratio'] = dfn.y/dfn.z #Include the ratio of y and z accelerations as a new feature\n",
    "#dfn['z-xratio'] = dfn.z/dfn.x #Include the ratio of z and x accelerations as a new feature\n",
    "labelsn = dfn.label\n",
    "featuresn = dfn.drop(['Serial','label'], axis =1, inplace = False)"
   ]
  },
  {
   "cell_type": "code",
   "execution_count": 56,
   "metadata": {
    "collapsed": false
   },
   "outputs": [
    {
     "name": "stdout",
     "output_type": "stream",
     "text": [
      "accuracy = 0.880613496933\n"
     ]
    }
   ],
   "source": [
    "clf =RandomForestClassifier(n_estimators =100, min_samples_split = 5, random_state = 42)\n",
    "features = featuresn\n",
    "labels = labelsn\n",
    "#Splitting the datan into training and testing set\n",
    "features_train1, features_test1, labels_train1, labels_test1 = cross_validation.train_test_split(features, labels, test_size=0.3, random_state = 42)\n",
    "clf.fit(features_train1,labels_train1) \n",
    "pred = clf.predict(features_test1) \n",
    "print \"accuracy =\", accuracy_score(labels_test1, pred)"
   ]
  },
  {
   "cell_type": "markdown",
   "metadata": {},
   "source": [
    "### Result\n",
    "We built classifiers for each of the 15 datasets individually, and obtained accuracy scores ranging from 76% to 89% on the test sets."
   ]
  },
  {
   "cell_type": "markdown",
   "metadata": {},
   "source": [
    "### Analyzing performance"
   ]
  },
  {
   "cell_type": "code",
   "execution_count": 57,
   "metadata": {
    "collapsed": false,
    "scrolled": true
   },
   "outputs": [
    {
     "name": "stdout",
     "output_type": "stream",
     "text": [
      "             precision    recall  f1-score   support\n",
      "\n",
      "          1       0.93      0.97      0.95      9793\n",
      "          2       0.44      0.12      0.19      1098\n",
      "          3       0.66      0.56      0.61      3152\n",
      "          4       0.76      0.82      0.79      8025\n",
      "          5       0.55      0.29      0.38       850\n",
      "          6       0.36      0.09      0.14       768\n",
      "          7       0.94      0.98      0.96     25214\n",
      "\n",
      "avg / total       0.86      0.88      0.87     48900\n",
      "\n"
     ]
    }
   ],
   "source": [
    "from sklearn.metrics import confusion_matrix as cf, classification_report as cr\n",
    "print(cr(labels_test1,pred))"
   ]
  },
  {
   "cell_type": "markdown",
   "metadata": {},
   "source": [
    "#### Confusion matrix"
   ]
  },
  {
   "cell_type": "code",
   "execution_count": 58,
   "metadata": {
    "collapsed": false
   },
   "outputs": [
    {
     "name": "stdout",
     "output_type": "stream",
     "text": [
      "[[ 9494   112    14   142     3     1    27]\n",
      " [  420   134   106   376     9     6    47]\n",
      " [   11    15  1780   728   113    15   490]\n",
      " [  222    37   476  6596    47    42   605]\n",
      " [    2     2   146   366   246     8    80]\n",
      " [    0     3    46   178    13    66   462]\n",
      " [    9     1   114   284    16    44 24746]]\n"
     ]
    }
   ],
   "source": [
    "print cf(labels_test1,pred)"
   ]
  },
  {
   "cell_type": "code",
   "execution_count": null,
   "metadata": {
    "collapsed": true
   },
   "outputs": [],
   "source": []
  },
  {
   "cell_type": "markdown",
   "metadata": {
    "collapsed": true
   },
   "source": [
    "#### Observations\n",
    "Our models do a reasonably good job at classifying user activity based on accelarometer data. Further work could focus on improving the lowest performing labels, particularly 2 and 6. As noted earlier, those labels are among the least abundant labels in the data, and therefore the model likely suffers from insufficient training in recognizing them.\n",
    "This is reflected in the unusually low recall for labels 2 and 6, which was universally observed in all datasets.\n",
    "\n",
    "Additionally, label 2 (Standing Up, Walking and Going up\\down stairs) presents an inherent ambiguity by definition, as it overlaps with labels 3(Standing),4(Walking), and 5(Going up\\down stairs), which further contributes to the model's underperformance in this sector."
   ]
  },
  {
   "cell_type": "code",
   "execution_count": null,
   "metadata": {
    "collapsed": true
   },
   "outputs": [],
   "source": []
  },
  {
   "cell_type": "code",
   "execution_count": null,
   "metadata": {
    "collapsed": true
   },
   "outputs": [],
   "source": []
  }
 ],
 "metadata": {
  "kernelspec": {
   "display_name": "Python 2",
   "language": "python",
   "name": "python2"
  },
  "language_info": {
   "codemirror_mode": {
    "name": "ipython",
    "version": 2
   },
   "file_extension": ".py",
   "mimetype": "text/x-python",
   "name": "python",
   "nbconvert_exporter": "python",
   "pygments_lexer": "ipython2",
   "version": "2.7.11"
  }
 },
 "nbformat": 4,
 "nbformat_minor": 0
}
